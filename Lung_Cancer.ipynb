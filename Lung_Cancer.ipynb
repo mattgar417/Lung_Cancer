{
  "nbformat": 4,
  "nbformat_minor": 0,
  "metadata": {
    "colab": {
      "provenance": [],
      "authorship_tag": "ABX9TyPBKwO0Ux62+e4U7oFMT+Xn",
      "include_colab_link": true
    },
    "kernelspec": {
      "name": "python3",
      "display_name": "Python 3"
    },
    "language_info": {
      "name": "python"
    }
  },
  "cells": [
    {
      "cell_type": "markdown",
      "metadata": {
        "id": "view-in-github",
        "colab_type": "text"
      },
      "source": [
        "<a href=\"https://colab.research.google.com/github/mattgar417/Lung_Cancer/blob/master/Lung_Cancer.ipynb\" target=\"_parent\"><img src=\"https://colab.research.google.com/assets/colab-badge.svg\" alt=\"Open In Colab\"/></a>"
      ]
    },
    {
      "cell_type": "code",
      "execution_count": null,
      "metadata": {
        "colab": {
          "base_uri": "https://localhost:8080/"
        },
        "id": "B1dYX7apbvWx",
        "outputId": "0d28c167-e4cd-495f-f703-b28c797541ed"
      },
      "outputs": [
        {
          "output_type": "stream",
          "name": "stdout",
          "text": [
            "Mounted at /content/gdrive\n"
          ]
        }
      ],
      "source": [
        "from google.colab import drive\n",
        "drive.mount('/content/gdrive')"
      ]
    },
    {
      "cell_type": "code",
      "source": [
        "!pip install tensorflow"
      ],
      "metadata": {
        "colab": {
          "base_uri": "https://localhost:8080/"
        },
        "id": "mOuN_TPccUEV",
        "outputId": "cf47ac5e-b03c-4f4e-b794-3e25425128ad"
      },
      "execution_count": null,
      "outputs": [
        {
          "output_type": "stream",
          "name": "stdout",
          "text": [
            "Looking in indexes: https://pypi.org/simple, https://us-python.pkg.dev/colab-wheels/public/simple/\n",
            "Requirement already satisfied: tensorflow in /usr/local/lib/python3.7/dist-packages (2.9.2)\n",
            "Requirement already satisfied: google-pasta>=0.1.1 in /usr/local/lib/python3.7/dist-packages (from tensorflow) (0.2.0)\n",
            "Requirement already satisfied: keras-preprocessing>=1.1.1 in /usr/local/lib/python3.7/dist-packages (from tensorflow) (1.1.2)\n",
            "Requirement already satisfied: keras<2.10.0,>=2.9.0rc0 in /usr/local/lib/python3.7/dist-packages (from tensorflow) (2.9.0)\n",
            "Requirement already satisfied: tensorflow-io-gcs-filesystem>=0.23.1 in /usr/local/lib/python3.7/dist-packages (from tensorflow) (0.27.0)\n",
            "Requirement already satisfied: astunparse>=1.6.0 in /usr/local/lib/python3.7/dist-packages (from tensorflow) (1.6.3)\n",
            "Requirement already satisfied: tensorboard<2.10,>=2.9 in /usr/local/lib/python3.7/dist-packages (from tensorflow) (2.9.1)\n",
            "Requirement already satisfied: six>=1.12.0 in /usr/local/lib/python3.7/dist-packages (from tensorflow) (1.15.0)\n",
            "Requirement already satisfied: gast<=0.4.0,>=0.2.1 in /usr/local/lib/python3.7/dist-packages (from tensorflow) (0.4.0)\n",
            "Requirement already satisfied: opt-einsum>=2.3.2 in /usr/local/lib/python3.7/dist-packages (from tensorflow) (3.3.0)\n",
            "Requirement already satisfied: tensorflow-estimator<2.10.0,>=2.9.0rc0 in /usr/local/lib/python3.7/dist-packages (from tensorflow) (2.9.0)\n",
            "Requirement already satisfied: wrapt>=1.11.0 in /usr/local/lib/python3.7/dist-packages (from tensorflow) (1.14.1)\n",
            "Requirement already satisfied: packaging in /usr/local/lib/python3.7/dist-packages (from tensorflow) (21.3)\n",
            "Requirement already satisfied: numpy>=1.20 in /usr/local/lib/python3.7/dist-packages (from tensorflow) (1.21.6)\n",
            "Requirement already satisfied: grpcio<2.0,>=1.24.3 in /usr/local/lib/python3.7/dist-packages (from tensorflow) (1.50.0)\n",
            "Requirement already satisfied: typing-extensions>=3.6.6 in /usr/local/lib/python3.7/dist-packages (from tensorflow) (4.1.1)\n",
            "Requirement already satisfied: absl-py>=1.0.0 in /usr/local/lib/python3.7/dist-packages (from tensorflow) (1.3.0)\n",
            "Requirement already satisfied: h5py>=2.9.0 in /usr/local/lib/python3.7/dist-packages (from tensorflow) (3.1.0)\n",
            "Requirement already satisfied: flatbuffers<2,>=1.12 in /usr/local/lib/python3.7/dist-packages (from tensorflow) (1.12)\n",
            "Requirement already satisfied: protobuf<3.20,>=3.9.2 in /usr/local/lib/python3.7/dist-packages (from tensorflow) (3.19.6)\n",
            "Requirement already satisfied: setuptools in /usr/local/lib/python3.7/dist-packages (from tensorflow) (57.4.0)\n",
            "Requirement already satisfied: termcolor>=1.1.0 in /usr/local/lib/python3.7/dist-packages (from tensorflow) (2.1.0)\n",
            "Requirement already satisfied: libclang>=13.0.0 in /usr/local/lib/python3.7/dist-packages (from tensorflow) (14.0.6)\n",
            "Requirement already satisfied: wheel<1.0,>=0.23.0 in /usr/local/lib/python3.7/dist-packages (from astunparse>=1.6.0->tensorflow) (0.38.3)\n",
            "Requirement already satisfied: cached-property in /usr/local/lib/python3.7/dist-packages (from h5py>=2.9.0->tensorflow) (1.5.2)\n",
            "Requirement already satisfied: google-auth-oauthlib<0.5,>=0.4.1 in /usr/local/lib/python3.7/dist-packages (from tensorboard<2.10,>=2.9->tensorflow) (0.4.6)\n",
            "Requirement already satisfied: tensorboard-data-server<0.7.0,>=0.6.0 in /usr/local/lib/python3.7/dist-packages (from tensorboard<2.10,>=2.9->tensorflow) (0.6.1)\n",
            "Requirement already satisfied: werkzeug>=1.0.1 in /usr/local/lib/python3.7/dist-packages (from tensorboard<2.10,>=2.9->tensorflow) (1.0.1)\n",
            "Requirement already satisfied: requests<3,>=2.21.0 in /usr/local/lib/python3.7/dist-packages (from tensorboard<2.10,>=2.9->tensorflow) (2.23.0)\n",
            "Requirement already satisfied: google-auth<3,>=1.6.3 in /usr/local/lib/python3.7/dist-packages (from tensorboard<2.10,>=2.9->tensorflow) (2.14.1)\n",
            "Requirement already satisfied: tensorboard-plugin-wit>=1.6.0 in /usr/local/lib/python3.7/dist-packages (from tensorboard<2.10,>=2.9->tensorflow) (1.8.1)\n",
            "Requirement already satisfied: markdown>=2.6.8 in /usr/local/lib/python3.7/dist-packages (from tensorboard<2.10,>=2.9->tensorflow) (3.4.1)\n",
            "Requirement already satisfied: rsa<5,>=3.1.4 in /usr/local/lib/python3.7/dist-packages (from google-auth<3,>=1.6.3->tensorboard<2.10,>=2.9->tensorflow) (4.9)\n",
            "Requirement already satisfied: cachetools<6.0,>=2.0.0 in /usr/local/lib/python3.7/dist-packages (from google-auth<3,>=1.6.3->tensorboard<2.10,>=2.9->tensorflow) (5.2.0)\n",
            "Requirement already satisfied: pyasn1-modules>=0.2.1 in /usr/local/lib/python3.7/dist-packages (from google-auth<3,>=1.6.3->tensorboard<2.10,>=2.9->tensorflow) (0.2.8)\n",
            "Requirement already satisfied: requests-oauthlib>=0.7.0 in /usr/local/lib/python3.7/dist-packages (from google-auth-oauthlib<0.5,>=0.4.1->tensorboard<2.10,>=2.9->tensorflow) (1.3.1)\n",
            "Requirement already satisfied: importlib-metadata>=4.4 in /usr/local/lib/python3.7/dist-packages (from markdown>=2.6.8->tensorboard<2.10,>=2.9->tensorflow) (4.13.0)\n",
            "Requirement already satisfied: zipp>=0.5 in /usr/local/lib/python3.7/dist-packages (from importlib-metadata>=4.4->markdown>=2.6.8->tensorboard<2.10,>=2.9->tensorflow) (3.10.0)\n",
            "Requirement already satisfied: pyasn1<0.5.0,>=0.4.6 in /usr/local/lib/python3.7/dist-packages (from pyasn1-modules>=0.2.1->google-auth<3,>=1.6.3->tensorboard<2.10,>=2.9->tensorflow) (0.4.8)\n",
            "Requirement already satisfied: idna<3,>=2.5 in /usr/local/lib/python3.7/dist-packages (from requests<3,>=2.21.0->tensorboard<2.10,>=2.9->tensorflow) (2.10)\n",
            "Requirement already satisfied: certifi>=2017.4.17 in /usr/local/lib/python3.7/dist-packages (from requests<3,>=2.21.0->tensorboard<2.10,>=2.9->tensorflow) (2022.9.24)\n",
            "Requirement already satisfied: chardet<4,>=3.0.2 in /usr/local/lib/python3.7/dist-packages (from requests<3,>=2.21.0->tensorboard<2.10,>=2.9->tensorflow) (3.0.4)\n",
            "Requirement already satisfied: urllib3!=1.25.0,!=1.25.1,<1.26,>=1.21.1 in /usr/local/lib/python3.7/dist-packages (from requests<3,>=2.21.0->tensorboard<2.10,>=2.9->tensorflow) (1.24.3)\n",
            "Requirement already satisfied: oauthlib>=3.0.0 in /usr/local/lib/python3.7/dist-packages (from requests-oauthlib>=0.7.0->google-auth-oauthlib<0.5,>=0.4.1->tensorboard<2.10,>=2.9->tensorflow) (3.2.2)\n",
            "Requirement already satisfied: pyparsing!=3.0.5,>=2.0.2 in /usr/local/lib/python3.7/dist-packages (from packaging->tensorflow) (3.0.9)\n"
          ]
        }
      ]
    },
    {
      "cell_type": "code",
      "source": [
        "!pip install Pillow\n",
        "!pip install scipy==1.1.0"
      ],
      "metadata": {
        "colab": {
          "base_uri": "https://localhost:8080/"
        },
        "id": "JlDtaS0pcWAd",
        "outputId": "c4b6a458-382e-4c4c-f58f-c478c590e847"
      },
      "execution_count": null,
      "outputs": [
        {
          "output_type": "stream",
          "name": "stdout",
          "text": [
            "Looking in indexes: https://pypi.org/simple, https://us-python.pkg.dev/colab-wheels/public/simple/\n",
            "Requirement already satisfied: Pillow in /usr/local/lib/python3.7/dist-packages (7.1.2)\n",
            "Looking in indexes: https://pypi.org/simple, https://us-python.pkg.dev/colab-wheels/public/simple/\n",
            "Collecting scipy==1.1.0\n",
            "  Downloading scipy-1.1.0-cp37-cp37m-manylinux1_x86_64.whl (31.2 MB)\n",
            "\u001b[K     |████████████████████████████████| 31.2 MB 256 kB/s \n",
            "\u001b[?25hRequirement already satisfied: numpy>=1.8.2 in /usr/local/lib/python3.7/dist-packages (from scipy==1.1.0) (1.21.6)\n",
            "Installing collected packages: scipy\n",
            "  Attempting uninstall: scipy\n",
            "    Found existing installation: scipy 1.7.3\n",
            "    Uninstalling scipy-1.7.3:\n",
            "      Successfully uninstalled scipy-1.7.3\n",
            "\u001b[31mERROR: pip's dependency resolver does not currently take into account all the packages that are installed. This behaviour is the source of the following dependency conflicts.\n",
            "pymc 4.1.4 requires scipy>=1.4.1, but you have scipy 1.1.0 which is incompatible.\n",
            "plotnine 0.8.0 requires scipy>=1.5.0, but you have scipy 1.1.0 which is incompatible.\n",
            "jaxlib 0.3.22+cuda11.cudnn805 requires scipy>=1.5, but you have scipy 1.1.0 which is incompatible.\n",
            "jax 0.3.23 requires scipy>=1.5, but you have scipy 1.1.0 which is incompatible.\n",
            "aeppl 0.0.33 requires scipy>=1.4.0, but you have scipy 1.1.0 which is incompatible.\u001b[0m\n",
            "Successfully installed scipy-1.1.0\n"
          ]
        }
      ]
    },
    {
      "cell_type": "code",
      "source": [
        "! pip install SimpleITK"
      ],
      "metadata": {
        "colab": {
          "base_uri": "https://localhost:8080/"
        },
        "id": "yPn75l61dl1I",
        "outputId": "5e55cbc4-73df-4bb1-824d-46ce95b09f6b"
      },
      "execution_count": null,
      "outputs": [
        {
          "output_type": "stream",
          "name": "stdout",
          "text": [
            "Looking in indexes: https://pypi.org/simple, https://us-python.pkg.dev/colab-wheels/public/simple/\n",
            "Collecting SimpleITK\n",
            "  Downloading SimpleITK-2.2.0-cp37-cp37m-manylinux_2_17_x86_64.manylinux2014_x86_64.whl (52.8 MB)\n",
            "\u001b[K     |████████████████████████████████| 52.8 MB 131 kB/s \n",
            "\u001b[?25hInstalling collected packages: SimpleITK\n",
            "Successfully installed SimpleITK-2.2.0\n"
          ]
        }
      ]
    },
    {
      "cell_type": "code",
      "source": [
        "import SimpleITK as sitk"
      ],
      "metadata": {
        "id": "9F5CKALndr5r"
      },
      "execution_count": null,
      "outputs": []
    },
    {
      "cell_type": "code",
      "source": [
        "import numpy as np\n",
        "import pandas as pd\n",
        "\n",
        "import matplotlib.pyplot as plt\n",
        "import seaborn as sns \n",
        "\n",
        "import os\n",
        "import glob\n",
        "\n",
        "##import SimpleITK as sitk\n",
        "\n",
        "from PIL import Image\n",
        "\n",
        "from scipy.misc import imread\n",
        "\n",
        "%matplotlib inline\n",
        "from IPython.display import clear_output\n",
        "pd.options.mode.chained_assignment = None"
      ],
      "metadata": {
        "id": "XVrIOnmqeBWa"
      },
      "execution_count": null,
      "outputs": []
    },
    {
      "cell_type": "code",
      "source": [
        "annotations = pd.read_csv('/content/gdrive/My Drive/Dataset_LUNA_16/annotations.csv')\n",
        "candidates = pd.read_csv('/content/gdrive/My Drive/Dataset_LUNA_16/candidates.csv')"
      ],
      "metadata": {
        "id": "0Rzjl5UgeFqQ"
      },
      "execution_count": null,
      "outputs": []
    },
    {
      "cell_type": "code",
      "source": [
        "annotations.head()"
      ],
      "metadata": {
        "id": "nLqB6EVzewFP",
        "colab": {
          "base_uri": "https://localhost:8080/",
          "height": 206
        },
        "outputId": "ec849399-c77a-4d6a-b4f7-c437c677cfa1"
      },
      "execution_count": null,
      "outputs": [
        {
          "output_type": "execute_result",
          "data": {
            "text/plain": [
              "                                           seriesuid      coordX      coordY  \\\n",
              "0  1.3.6.1.4.1.14519.5.2.1.6279.6001.100225287222... -128.699421 -175.319272   \n",
              "1  1.3.6.1.4.1.14519.5.2.1.6279.6001.100225287222...  103.783651 -211.925149   \n",
              "2  1.3.6.1.4.1.14519.5.2.1.6279.6001.100398138793...   69.639017 -140.944586   \n",
              "3  1.3.6.1.4.1.14519.5.2.1.6279.6001.100621383016...  -24.013824  192.102405   \n",
              "4  1.3.6.1.4.1.14519.5.2.1.6279.6001.100621383016...    2.441547  172.464881   \n",
              "\n",
              "       coordZ  diameter_mm  \n",
              "0 -298.387506     5.651471  \n",
              "1 -227.121250     4.224708  \n",
              "2  876.374496     5.786348  \n",
              "3 -391.081276     8.143262  \n",
              "4 -405.493732    18.545150  "
            ],
            "text/html": [
              "\n",
              "  <div id=\"df-f920daaf-0683-4cdf-9bc8-378564ec9811\">\n",
              "    <div class=\"colab-df-container\">\n",
              "      <div>\n",
              "<style scoped>\n",
              "    .dataframe tbody tr th:only-of-type {\n",
              "        vertical-align: middle;\n",
              "    }\n",
              "\n",
              "    .dataframe tbody tr th {\n",
              "        vertical-align: top;\n",
              "    }\n",
              "\n",
              "    .dataframe thead th {\n",
              "        text-align: right;\n",
              "    }\n",
              "</style>\n",
              "<table border=\"1\" class=\"dataframe\">\n",
              "  <thead>\n",
              "    <tr style=\"text-align: right;\">\n",
              "      <th></th>\n",
              "      <th>seriesuid</th>\n",
              "      <th>coordX</th>\n",
              "      <th>coordY</th>\n",
              "      <th>coordZ</th>\n",
              "      <th>diameter_mm</th>\n",
              "    </tr>\n",
              "  </thead>\n",
              "  <tbody>\n",
              "    <tr>\n",
              "      <th>0</th>\n",
              "      <td>1.3.6.1.4.1.14519.5.2.1.6279.6001.100225287222...</td>\n",
              "      <td>-128.699421</td>\n",
              "      <td>-175.319272</td>\n",
              "      <td>-298.387506</td>\n",
              "      <td>5.651471</td>\n",
              "    </tr>\n",
              "    <tr>\n",
              "      <th>1</th>\n",
              "      <td>1.3.6.1.4.1.14519.5.2.1.6279.6001.100225287222...</td>\n",
              "      <td>103.783651</td>\n",
              "      <td>-211.925149</td>\n",
              "      <td>-227.121250</td>\n",
              "      <td>4.224708</td>\n",
              "    </tr>\n",
              "    <tr>\n",
              "      <th>2</th>\n",
              "      <td>1.3.6.1.4.1.14519.5.2.1.6279.6001.100398138793...</td>\n",
              "      <td>69.639017</td>\n",
              "      <td>-140.944586</td>\n",
              "      <td>876.374496</td>\n",
              "      <td>5.786348</td>\n",
              "    </tr>\n",
              "    <tr>\n",
              "      <th>3</th>\n",
              "      <td>1.3.6.1.4.1.14519.5.2.1.6279.6001.100621383016...</td>\n",
              "      <td>-24.013824</td>\n",
              "      <td>192.102405</td>\n",
              "      <td>-391.081276</td>\n",
              "      <td>8.143262</td>\n",
              "    </tr>\n",
              "    <tr>\n",
              "      <th>4</th>\n",
              "      <td>1.3.6.1.4.1.14519.5.2.1.6279.6001.100621383016...</td>\n",
              "      <td>2.441547</td>\n",
              "      <td>172.464881</td>\n",
              "      <td>-405.493732</td>\n",
              "      <td>18.545150</td>\n",
              "    </tr>\n",
              "  </tbody>\n",
              "</table>\n",
              "</div>\n",
              "      <button class=\"colab-df-convert\" onclick=\"convertToInteractive('df-f920daaf-0683-4cdf-9bc8-378564ec9811')\"\n",
              "              title=\"Convert this dataframe to an interactive table.\"\n",
              "              style=\"display:none;\">\n",
              "        \n",
              "  <svg xmlns=\"http://www.w3.org/2000/svg\" height=\"24px\"viewBox=\"0 0 24 24\"\n",
              "       width=\"24px\">\n",
              "    <path d=\"M0 0h24v24H0V0z\" fill=\"none\"/>\n",
              "    <path d=\"M18.56 5.44l.94 2.06.94-2.06 2.06-.94-2.06-.94-.94-2.06-.94 2.06-2.06.94zm-11 1L8.5 8.5l.94-2.06 2.06-.94-2.06-.94L8.5 2.5l-.94 2.06-2.06.94zm10 10l.94 2.06.94-2.06 2.06-.94-2.06-.94-.94-2.06-.94 2.06-2.06.94z\"/><path d=\"M17.41 7.96l-1.37-1.37c-.4-.4-.92-.59-1.43-.59-.52 0-1.04.2-1.43.59L10.3 9.45l-7.72 7.72c-.78.78-.78 2.05 0 2.83L4 21.41c.39.39.9.59 1.41.59.51 0 1.02-.2 1.41-.59l7.78-7.78 2.81-2.81c.8-.78.8-2.07 0-2.86zM5.41 20L4 18.59l7.72-7.72 1.47 1.35L5.41 20z\"/>\n",
              "  </svg>\n",
              "      </button>\n",
              "      \n",
              "  <style>\n",
              "    .colab-df-container {\n",
              "      display:flex;\n",
              "      flex-wrap:wrap;\n",
              "      gap: 12px;\n",
              "    }\n",
              "\n",
              "    .colab-df-convert {\n",
              "      background-color: #E8F0FE;\n",
              "      border: none;\n",
              "      border-radius: 50%;\n",
              "      cursor: pointer;\n",
              "      display: none;\n",
              "      fill: #1967D2;\n",
              "      height: 32px;\n",
              "      padding: 0 0 0 0;\n",
              "      width: 32px;\n",
              "    }\n",
              "\n",
              "    .colab-df-convert:hover {\n",
              "      background-color: #E2EBFA;\n",
              "      box-shadow: 0px 1px 2px rgba(60, 64, 67, 0.3), 0px 1px 3px 1px rgba(60, 64, 67, 0.15);\n",
              "      fill: #174EA6;\n",
              "    }\n",
              "\n",
              "    [theme=dark] .colab-df-convert {\n",
              "      background-color: #3B4455;\n",
              "      fill: #D2E3FC;\n",
              "    }\n",
              "\n",
              "    [theme=dark] .colab-df-convert:hover {\n",
              "      background-color: #434B5C;\n",
              "      box-shadow: 0px 1px 3px 1px rgba(0, 0, 0, 0.15);\n",
              "      filter: drop-shadow(0px 1px 2px rgba(0, 0, 0, 0.3));\n",
              "      fill: #FFFFFF;\n",
              "    }\n",
              "  </style>\n",
              "\n",
              "      <script>\n",
              "        const buttonEl =\n",
              "          document.querySelector('#df-f920daaf-0683-4cdf-9bc8-378564ec9811 button.colab-df-convert');\n",
              "        buttonEl.style.display =\n",
              "          google.colab.kernel.accessAllowed ? 'block' : 'none';\n",
              "\n",
              "        async function convertToInteractive(key) {\n",
              "          const element = document.querySelector('#df-f920daaf-0683-4cdf-9bc8-378564ec9811');\n",
              "          const dataTable =\n",
              "            await google.colab.kernel.invokeFunction('convertToInteractive',\n",
              "                                                     [key], {});\n",
              "          if (!dataTable) return;\n",
              "\n",
              "          const docLinkHtml = 'Like what you see? Visit the ' +\n",
              "            '<a target=\"_blank\" href=https://colab.research.google.com/notebooks/data_table.ipynb>data table notebook</a>'\n",
              "            + ' to learn more about interactive tables.';\n",
              "          element.innerHTML = '';\n",
              "          dataTable['output_type'] = 'display_data';\n",
              "          await google.colab.output.renderOutput(dataTable, element);\n",
              "          const docLink = document.createElement('div');\n",
              "          docLink.innerHTML = docLinkHtml;\n",
              "          element.appendChild(docLink);\n",
              "        }\n",
              "      </script>\n",
              "    </div>\n",
              "  </div>\n",
              "  "
            ]
          },
          "metadata": {},
          "execution_count": 8
        }
      ]
    },
    {
      "cell_type": "code",
      "source": [
        "candidates['class'].sum()"
      ],
      "metadata": {
        "id": "ZBERW7L6gsb_",
        "colab": {
          "base_uri": "https://localhost:8080/"
        },
        "outputId": "79eada02-0208-4cd6-edde-5c846d653b26"
      },
      "execution_count": null,
      "outputs": [
        {
          "output_type": "execute_result",
          "data": {
            "text/plain": [
              "1351"
            ]
          },
          "metadata": {},
          "execution_count": 9
        }
      ]
    },
    {
      "cell_type": "code",
      "source": [
        "candidates.info()"
      ],
      "metadata": {
        "id": "pMptwheFgxH5",
        "colab": {
          "base_uri": "https://localhost:8080/"
        },
        "outputId": "85704db7-4587-494c-99c4-6d671f989952"
      },
      "execution_count": null,
      "outputs": [
        {
          "output_type": "stream",
          "name": "stdout",
          "text": [
            "<class 'pandas.core.frame.DataFrame'>\n",
            "RangeIndex: 551065 entries, 0 to 551064\n",
            "Data columns (total 5 columns):\n",
            " #   Column     Non-Null Count   Dtype  \n",
            "---  ------     --------------   -----  \n",
            " 0   seriesuid  551065 non-null  object \n",
            " 1   coordX     551065 non-null  float64\n",
            " 2   coordY     551065 non-null  float64\n",
            " 3   coordZ     551065 non-null  float64\n",
            " 4   class      551065 non-null  int64  \n",
            "dtypes: float64(3), int64(1), object(1)\n",
            "memory usage: 21.0+ MB\n"
          ]
        }
      ]
    },
    {
      "cell_type": "code",
      "source": [
        "print(len(candidates[candidates['class'] == 1]))\n",
        "print(len(candidates[candidates['class'] == 0]))"
      ],
      "metadata": {
        "id": "rN7NLPnOhfwh",
        "colab": {
          "base_uri": "https://localhost:8080/"
        },
        "outputId": "e6891e8a-6d23-4eaa-bb8e-d80abd27e3ca"
      },
      "execution_count": null,
      "outputs": [
        {
          "output_type": "stream",
          "name": "stdout",
          "text": [
            "1351\n",
            "549714\n"
          ]
        }
      ]
    },
    {
      "cell_type": "code",
      "source": [
        "import multiprocessing\n",
        "num_cores = multiprocessing.cpu_count()\n",
        "print(num_cores)"
      ],
      "metadata": {
        "id": "vjJxRAkfhhJW",
        "colab": {
          "base_uri": "https://localhost:8080/"
        },
        "outputId": "2d27f0a1-7399-4f2e-aa23-8d9b096ea402"
      },
      "execution_count": null,
      "outputs": [
        {
          "output_type": "stream",
          "name": "stdout",
          "text": [
            "2\n"
          ]
        }
      ]
    },
    {
      "cell_type": "code",
      "source": [
        "class CTScan(object):\n",
        "    def __init__(self, filename = None, coords = None):\n",
        "        self.filename = filename\n",
        "        self.coords = coords\n",
        "        self.ds = None\n",
        "        self.image = None\n",
        "\n",
        "    def reset_coords(self, coords):\n",
        "        self.coords = coords\n",
        "\n",
        "    def read_mhd_image(self):\n",
        "        path = glob.glob('/content/gdrive/My Drive/lungcancer/Dataset_LUNA_16/seg-lungs-LUNA16/*/'+ self.filename + '.mhd')\n",
        "        self.ds = sitk.ReadImage(path[0])\n",
        "        self.image = sitk.GetArrayFromImage(self.ds)\n",
        "\n",
        "    def get_resolution(self):\n",
        "        return self.ds.GetSpacing()\n",
        "\n",
        "    def get_origin(self):\n",
        "        return self.ds.GetOrigin()\n",
        "\n",
        "    def get_ds(self):\n",
        "        return self.ds\n",
        "\n",
        "    def get_voxel_coords(self):\n",
        "        origin = self.get_origin()\n",
        "        resolution = self.get_resolution()\n",
        "        voxel_coords = [np.absolute(self.coords[j]-origin[j])/resolution[j] \\\n",
        "            for j in range(len(self.coords))]\n",
        "        return tuple(voxel_coords)\n",
        "    \n",
        "    def get_image(self):\n",
        "        return self.image\n",
        "    \n",
        "    def get_subimage(self, width):\n",
        "        self.read_mhd_image()\n",
        "        x, y, z = self.get_voxel_coords()\n",
        "        subImage = self.image[z, y-width/2:y+width/2, x-width/2:x+width/2]\n",
        "        return subImage   \n",
        "    def normalizePlanes(self, npzarray):\n",
        "        maxHU = 400.\n",
        "        minHU = -1000.\n",
        "        npzarray = (npzarray - minHU) / (maxHU - minHU)\n",
        "        npzarray[npzarray>1] = 1.\n",
        "        npzarray[npzarray<0] = 0.\n",
        "        return npzarray\n",
        "    \n",
        "    def save_image(self, filename, width):\n",
        "        image = self.get_subimage(width)\n",
        "        image = self.normalizePlanes(image)\n",
        "        Image.fromarray(image*255).convert('L').save(filename)"
      ],
      "metadata": {
        "id": "DfOd0PbyhlWK"
      },
      "execution_count": null,
      "outputs": []
    },
    {
      "cell_type": "code",
      "source": [
        "positives = candidates[candidates['class']==1].index  \n",
        "negatives = candidates[candidates['class']==0].index"
      ],
      "metadata": {
        "id": "6sP2LbZChyfz",
        "colab": {
          "base_uri": "https://localhost:8080/",
          "height": 183
        },
        "outputId": "8028d809-780c-41a7-d81c-3f0dcc5a6120"
      },
      "execution_count": 1,
      "outputs": [
        {
          "output_type": "error",
          "ename": "NameError",
          "evalue": "ignored",
          "traceback": [
            "\u001b[0;31m---------------------------------------------------------------------------\u001b[0m",
            "\u001b[0;31mNameError\u001b[0m                                 Traceback (most recent call last)",
            "\u001b[0;32m<ipython-input-1-470827a5a12e>\u001b[0m in \u001b[0;36m<module>\u001b[0;34m\u001b[0m\n\u001b[0;32m----> 1\u001b[0;31m \u001b[0mpositives\u001b[0m \u001b[0;34m=\u001b[0m \u001b[0mcandidates\u001b[0m\u001b[0;34m[\u001b[0m\u001b[0mcandidates\u001b[0m\u001b[0;34m[\u001b[0m\u001b[0;34m'class'\u001b[0m\u001b[0;34m]\u001b[0m\u001b[0;34m==\u001b[0m\u001b[0;36m1\u001b[0m\u001b[0;34m]\u001b[0m\u001b[0;34m.\u001b[0m\u001b[0mindex\u001b[0m\u001b[0;34m\u001b[0m\u001b[0;34m\u001b[0m\u001b[0m\n\u001b[0m\u001b[1;32m      2\u001b[0m \u001b[0mnegatives\u001b[0m \u001b[0;34m=\u001b[0m \u001b[0mcandidates\u001b[0m\u001b[0;34m[\u001b[0m\u001b[0mcandidates\u001b[0m\u001b[0;34m[\u001b[0m\u001b[0;34m'class'\u001b[0m\u001b[0;34m]\u001b[0m\u001b[0;34m==\u001b[0m\u001b[0;36m0\u001b[0m\u001b[0;34m]\u001b[0m\u001b[0;34m.\u001b[0m\u001b[0mindex\u001b[0m\u001b[0;34m\u001b[0m\u001b[0;34m\u001b[0m\u001b[0m\n",
            "\u001b[0;31mNameError\u001b[0m: name 'candidates' is not defined"
          ]
        }
      ]
    },
    {
      "cell_type": "code",
      "source": [
        "scan = CTScan(np.asarray(candidates.iloc[negatives[600]])[0], \\\n",
        "              np.asarray(candidates.iloc[negatives[600]])[1:-1])\n",
        "scan.read_mhd_image()\n",
        "x, y, z = scan.get_voxel_coords()\n",
        "image = scan.get_image()\n",
        "dx, dy, dz = scan.get_resolution()\n",
        "x0, y0, z0 = scan.get_origin()"
      ],
      "metadata": {
        "id": "fxe55HNCh2qw",
        "colab": {
          "base_uri": "https://localhost:8080/",
          "height": 357
        },
        "outputId": "c10d634c-840a-41c6-b9cb-d5bc3adb0db4"
      },
      "execution_count": null,
      "outputs": [
        {
          "output_type": "error",
          "ename": "IndexError",
          "evalue": "ignored",
          "traceback": [
            "\u001b[0;31m---------------------------------------------------------------------------\u001b[0m",
            "\u001b[0;31mIndexError\u001b[0m                                Traceback (most recent call last)",
            "\u001b[0;32m<ipython-input-15-cdc105eec428>\u001b[0m in \u001b[0;36m<module>\u001b[0;34m\u001b[0m\n\u001b[1;32m      1\u001b[0m scan = CTScan(np.asarray(candidates.iloc[negatives[600]])[0], \\\n\u001b[1;32m      2\u001b[0m               np.asarray(candidates.iloc[negatives[600]])[1:-1])\n\u001b[0;32m----> 3\u001b[0;31m \u001b[0mscan\u001b[0m\u001b[0;34m.\u001b[0m\u001b[0mread_mhd_image\u001b[0m\u001b[0;34m(\u001b[0m\u001b[0;34m)\u001b[0m\u001b[0;34m\u001b[0m\u001b[0;34m\u001b[0m\u001b[0m\n\u001b[0m\u001b[1;32m      4\u001b[0m \u001b[0mx\u001b[0m\u001b[0;34m,\u001b[0m \u001b[0my\u001b[0m\u001b[0;34m,\u001b[0m \u001b[0mz\u001b[0m \u001b[0;34m=\u001b[0m \u001b[0mscan\u001b[0m\u001b[0;34m.\u001b[0m\u001b[0mget_voxel_coords\u001b[0m\u001b[0;34m(\u001b[0m\u001b[0;34m)\u001b[0m\u001b[0;34m\u001b[0m\u001b[0;34m\u001b[0m\u001b[0m\n\u001b[1;32m      5\u001b[0m \u001b[0mimage\u001b[0m \u001b[0;34m=\u001b[0m \u001b[0mscan\u001b[0m\u001b[0;34m.\u001b[0m\u001b[0mget_image\u001b[0m\u001b[0;34m(\u001b[0m\u001b[0;34m)\u001b[0m\u001b[0;34m\u001b[0m\u001b[0;34m\u001b[0m\u001b[0m\n",
            "\u001b[0;32m<ipython-input-13-220efde531b2>\u001b[0m in \u001b[0;36mread_mhd_image\u001b[0;34m(self)\u001b[0m\n\u001b[1;32m     11\u001b[0m     \u001b[0;32mdef\u001b[0m \u001b[0mread_mhd_image\u001b[0m\u001b[0;34m(\u001b[0m\u001b[0mself\u001b[0m\u001b[0;34m)\u001b[0m\u001b[0;34m:\u001b[0m\u001b[0;34m\u001b[0m\u001b[0;34m\u001b[0m\u001b[0m\n\u001b[1;32m     12\u001b[0m         \u001b[0mpath\u001b[0m \u001b[0;34m=\u001b[0m \u001b[0mglob\u001b[0m\u001b[0;34m.\u001b[0m\u001b[0mglob\u001b[0m\u001b[0;34m(\u001b[0m\u001b[0;34m'/content/gdrive/My Drive/lungcancer/Dataset_LUNA_16/seg-lungs-LUNA16/*/'\u001b[0m\u001b[0;34m+\u001b[0m \u001b[0mself\u001b[0m\u001b[0;34m.\u001b[0m\u001b[0mfilename\u001b[0m \u001b[0;34m+\u001b[0m \u001b[0;34m'.mhd'\u001b[0m\u001b[0;34m)\u001b[0m\u001b[0;34m\u001b[0m\u001b[0;34m\u001b[0m\u001b[0m\n\u001b[0;32m---> 13\u001b[0;31m         \u001b[0mself\u001b[0m\u001b[0;34m.\u001b[0m\u001b[0mds\u001b[0m \u001b[0;34m=\u001b[0m \u001b[0msitk\u001b[0m\u001b[0;34m.\u001b[0m\u001b[0mReadImage\u001b[0m\u001b[0;34m(\u001b[0m\u001b[0mpath\u001b[0m\u001b[0;34m[\u001b[0m\u001b[0;36m0\u001b[0m\u001b[0;34m]\u001b[0m\u001b[0;34m)\u001b[0m\u001b[0;34m\u001b[0m\u001b[0;34m\u001b[0m\u001b[0m\n\u001b[0m\u001b[1;32m     14\u001b[0m         \u001b[0mself\u001b[0m\u001b[0;34m.\u001b[0m\u001b[0mimage\u001b[0m \u001b[0;34m=\u001b[0m \u001b[0msitk\u001b[0m\u001b[0;34m.\u001b[0m\u001b[0mGetArrayFromImage\u001b[0m\u001b[0;34m(\u001b[0m\u001b[0mself\u001b[0m\u001b[0;34m.\u001b[0m\u001b[0mds\u001b[0m\u001b[0;34m)\u001b[0m\u001b[0;34m\u001b[0m\u001b[0;34m\u001b[0m\u001b[0m\n\u001b[1;32m     15\u001b[0m \u001b[0;34m\u001b[0m\u001b[0m\n",
            "\u001b[0;31mIndexError\u001b[0m: list index out of range"
          ]
        }
      ]
    },
    {
      "cell_type": "code",
      "source": [
        "filename = '1.3.6.1.4.1.14519.5.2.1.6279.6001.100398138793540579077826395208'\n",
        "coords = (70.19, -140.93, 877.68)#[877.68, -140.93, 70.19]\n",
        "scan = CTScan(filename, coords)\n",
        "scan.read_mhd_image()\n",
        "x, y, z = scan.get_voxel_coords()\n",
        "image = scan.get_image()\n",
        "dx, dy, dz = scan.get_resolution()\n",
        "x0, y0, z0 = scan.get_origin()"
      ],
      "metadata": {
        "id": "8Eq2GklaiCy2"
      },
      "execution_count": null,
      "outputs": []
    },
    {
      "cell_type": "code",
      "source": [
        "positives"
      ],
      "metadata": {
        "id": "KEJmMJ2xiKq0"
      },
      "execution_count": null,
      "outputs": []
    },
    {
      "cell_type": "code",
      "source": [
        "np.random.seed(42)\n",
        "negIndexes = np.random.choice(negatives, len(positives)*5, replace = False)"
      ],
      "metadata": {
        "id": "qgm05Tu9iPco"
      },
      "execution_count": null,
      "outputs": []
    },
    {
      "cell_type": "code",
      "source": [
        "candidatesDf = candidates.iloc[list(positives)+list(negIndexes)]"
      ],
      "metadata": {
        "id": "87kc5-wBiU3c"
      },
      "execution_count": null,
      "outputs": []
    },
    {
      "cell_type": "code",
      "source": [
        "from sklearn.model_selection import train_test_split\n",
        "X = candidatesDf.iloc[:,:-1]\n",
        "y = candidatesDf.iloc[:,-1]\n",
        "X_train, X_test, y_train, y_test = train_test_split(X, y, test_size = 0.20, random_state = 42)"
      ],
      "metadata": {
        "id": "wJ0jkwjTiWmm"
      },
      "execution_count": null,
      "outputs": []
    },
    {
      "cell_type": "code",
      "source": [
        "X_train.size"
      ],
      "metadata": {
        "id": "7xCQy9P-ibre"
      },
      "execution_count": null,
      "outputs": []
    },
    {
      "cell_type": "code",
      "source": [
        "y_train"
      ],
      "metadata": {
        "id": "iQHm8Zcoif2g"
      },
      "execution_count": null,
      "outputs": []
    },
    {
      "cell_type": "code",
      "source": [
        "y_test"
      ],
      "metadata": {
        "id": "c-uOkBl6iiY3"
      },
      "execution_count": null,
      "outputs": []
    },
    {
      "cell_type": "code",
      "source": [
        "X_train, X_val, y_train, y_val = train_test_split(X_train, y_train, test_size = 0.20, random_state = 42)"
      ],
      "metadata": {
        "id": "DilawsAXilS0"
      },
      "execution_count": null,
      "outputs": []
    },
    {
      "cell_type": "code",
      "source": [
        "X_train.size"
      ],
      "metadata": {
        "id": "rWqZXPMTiprV"
      },
      "execution_count": null,
      "outputs": []
    },
    {
      "cell_type": "code",
      "source": [
        "X_train"
      ],
      "metadata": {
        "id": "vbf5pHNaiss6"
      },
      "execution_count": null,
      "outputs": []
    },
    {
      "cell_type": "code",
      "source": [
        "y_train"
      ],
      "metadata": {
        "id": "5358wWWejEBr"
      },
      "execution_count": null,
      "outputs": []
    },
    {
      "cell_type": "code",
      "source": [
        "len(X_train)"
      ],
      "metadata": {
        "id": "x9ltBYMijG_u"
      },
      "execution_count": null,
      "outputs": []
    },
    {
      "cell_type": "code",
      "source": [
        "X_train.to_pickle('/content/gdrive/My Drive/lungcancer/Dataset_LUNA_16/preprocessed_data/traindata')\n",
        "X_test.to_pickle('/content/gdrive/My Drive/lungcancer/Dataset_LUNA_16/preprocessed_data/testdata')\n",
        "X_val.to_pickle('/content/gdrive/My Drive/lungcancer/Dataset_LUNA_16/preprocessed_data/valdata')"
      ],
      "metadata": {
        "id": "PNY41OhnjJyb"
      },
      "execution_count": null,
      "outputs": []
    },
    {
      "cell_type": "code",
      "source": [
        "def normalizePlanes(npzarray):\n",
        "    maxHU = 400.\n",
        "    minHU = -1000.\n",
        "    npzarray = (npzarray - minHU) / (maxHU - minHU)\n",
        "    npzarray[npzarray>1] = 1.\n",
        "    npzarray[npzarray<0] = 0.\n",
        "    return npzarray"
      ],
      "metadata": {
        "id": "D-jBpfffjNXI"
      },
      "execution_count": null,
      "outputs": []
    },
    {
      "cell_type": "code",
      "source": [
        "print('number of positive cases are ' + str(y_train.sum()))\n",
        "print('total set size is ' + str(len(y_train)))\n",
        "print('percentage of positive cases are ' + str(y_train.sum()*1.0/len(y_train)))"
      ],
      "metadata": {
        "id": "CAvg_H7KjQE8"
      },
      "execution_count": null,
      "outputs": []
    },
    {
      "cell_type": "code",
      "source": [
        "tempDf = X_train[y_train == 1]\n",
        "tempDf = tempDf.set_index(X_train[y_train == 1].index + 1000000)\n",
        "X_train_new = X_train.append(tempDf)\n",
        "tempDf = tempDf.set_index(X_train[y_train == 1].index + 2000000)\n",
        "X_train_new = X_train_new.append(tempDf)\n",
        "\n",
        "ytemp = y_train.reindex(X_train[y_train == 1].index + 1000000)\n",
        "ytemp.loc[:] = 1\n",
        "y_train_new = y_train.append(ytemp)\n",
        "ytemp = y_train.reindex(X_train[y_train == 1].index + 2000000)\n",
        "ytemp.loc[:] = 1\n",
        "y_train_new = y_train_new.append(ytemp)\n",
        "\n",
        "print(len(X_train_new), len(y_train_new))"
      ],
      "metadata": {
        "id": "UJHsEkjwjTCT"
      },
      "execution_count": null,
      "outputs": []
    },
    {
      "cell_type": "code",
      "source": [
        "X_train_new"
      ],
      "metadata": {
        "id": "kmKfVoV_jb5C"
      },
      "execution_count": null,
      "outputs": []
    },
    {
      "cell_type": "code",
      "source": [
        "y_train_new"
      ],
      "metadata": {
        "id": "TTVNkeSRjfSx"
      },
      "execution_count": null,
      "outputs": []
    },
    {
      "cell_type": "code",
      "source": [
        "X_train_new.index"
      ],
      "metadata": {
        "id": "nhK057EWjjDK"
      },
      "execution_count": null,
      "outputs": []
    },
    {
      "cell_type": "code",
      "source": [
        "import scipy.misc"
      ],
      "metadata": {
        "id": "rM8Nyv5xjnH1"
      },
      "execution_count": null,
      "outputs": []
    },
    {
      "cell_type": "code",
      "source": [
        "import cv2"
      ],
      "metadata": {
        "id": "Eoc929gNjqAk"
      },
      "execution_count": null,
      "outputs": []
    },
    {
      "cell_type": "code",
      "source": [
        "from PIL import ImageEnhance\n",
        "\n",
        "class PreProcessing(object):\n",
        "    def __init__(self, image = None):\n",
        "        self.image = image\n",
        "    \n",
        "    def subtract_mean(self):\n",
        "        self.image = (self.image/255.0 - 0.25)*255\n",
        "        return self.image\n",
        "    \n",
        "    def downsample_data(self):\n",
        "        self.image = cv2.resize(self.image, (40,40), interpolation = cv2.INTER_AREA)\n",
        "        return self.image\n",
        "\n",
        "    def upsample_data(self):\n",
        "        self.image = cv2.resize(self.image, (224, 224), interpolation = cv2.INTER_CUBIC)\n",
        "        return self.image"
      ],
      "metadata": {
        "id": "CgOghc7QjtRP"
      },
      "execution_count": null,
      "outputs": []
    },
    {
      "cell_type": "code",
      "source": [
        "dirName = '/content/gdrive/My Drive/lungcancer/Dataset_LUNA_16/data/train/'\n",
        "plt.figure(figsize = (10,10))\n",
        "inp = imread(dirName + 'image_'+ str(30517) + '.jpg')\n",
        "print (\"Original shape of input image: \", inp.shape)\n",
        "plt.subplot(221)\n",
        "plt.imshow(inp, cmap='gray')\n",
        "plt.grid(False)\n",
        "\n",
        "inp = PreProcessing(inp).upsample_data()\n",
        "Pp = PreProcessing(inp)\n",
        "\n",
        "inp2 = Pp.subtract_mean()\n",
        "plt.subplot(222)\n",
        "plt.imshow(inp2, cmap='gray')\n",
        "plt.grid(False)\n",
        "\n",
        "inp3 = ImageEnhance.Contrast(Image.fromarray(inp))\n",
        "contrast = 1.5\n",
        "inp3 = inp3.enhance(contrast)\n",
        "plt.subplot(223)\n",
        "plt.imshow(inp3, cmap='gray')\n",
        "plt.grid(False)\n",
        "\n",
        "inp4 = Pp.downsample_data()\n",
        "plt.subplot(224)\n",
        "plt.imshow(inp4,cmap='gray')\n",
        "plt.grid(False)"
      ],
      "metadata": {
        "id": "nerxZkJYjx85"
      },
      "execution_count": null,
      "outputs": []
    },
    {
      "cell_type": "code",
      "source": [
        "inp.shape"
      ],
      "metadata": {
        "id": "joDjHiplj1dy"
      },
      "execution_count": null,
      "outputs": []
    },
    {
      "cell_type": "code",
      "source": [
        "inp.dtype"
      ],
      "metadata": {
        "id": "UDQwgC7Yj5DH"
      },
      "execution_count": null,
      "outputs": []
    },
    {
      "cell_type": "code",
      "source": [
        "y_train_new.values.astype(int)"
      ],
      "metadata": {
        "id": "riImlU3Qj74R"
      },
      "execution_count": null,
      "outputs": []
    },
    {
      "cell_type": "code",
      "source": [
        "dirName"
      ],
      "metadata": {
        "id": "QLZD09oSkEPk"
      },
      "execution_count": null,
      "outputs": []
    },
    {
      "cell_type": "code",
      "source": [
        "train_filenames =\\\n",
        "X_train_new.index.to_series().apply(lambda x:\\\n",
        "                                    '/content/gdrive/My Drive/lungcancer/Dataset_LUNA_16/data/train/image_'+str(x)+'.jpg')\n",
        "train_filenames.values.astype(str)"
      ],
      "metadata": {
        "id": "wl0Jud0mkHCB"
      },
      "execution_count": null,
      "outputs": []
    },
    {
      "cell_type": "code",
      "source": [
        "train_filenames.values.astype(str)"
      ],
      "metadata": {
        "id": "o8OlZLgFkKNq"
      },
      "execution_count": null,
      "outputs": []
    },
    {
      "cell_type": "code",
      "source": [
        "dataset_file = 'traindatalabels.txt'\n",
        "filenames = train_filenames.values.astype(str)\n",
        "train_filenames =X_train_new.index.to_series().apply(lambda x:filenames)\n",
        "labels = y_train_new.values.astype(int)\n",
        "traindata = np.zeros(filenames.size,\\\n",
        "                     dtype=[('var1', 'S36'), ('var2', int)])\n",
        "traindata['var1'] = filenames\n",
        "traindata['var2'] = labels\n",
        "\n",
        "np.savetxt(dataset_file, traindata, fmt=\"%10s %d\")"
      ],
      "metadata": {
        "id": "701LZUJckU6R"
      },
      "execution_count": null,
      "outputs": []
    },
    {
      "cell_type": "code",
      "source": [
        "traindata"
      ],
      "metadata": {
        "id": "buN5wtAWkYNQ"
      },
      "execution_count": null,
      "outputs": []
    },
    {
      "cell_type": "code",
      "source": [
        "import h5py\n",
        "h5f = h5py.File('/content/gdrive/My Drive/lungcancer/Dataset_LUNA_16/data/traindataset.h5', 'r')\n",
        "X_train_images = h5f['X']\n",
        "Y_train_labels = h5f['Y']\n",
        "\n",
        "h5f2 = h5py.File('/content/gdrive/My Drive/lungcancer/Dataset_LUNA_16/data/valdataset.h5', 'r')\n",
        "X_val_images = h5f2['X']\n",
        "Y_val_labels = h5f2['Y']"
      ],
      "metadata": {
        "id": "C8ciY5afka-K"
      },
      "execution_count": null,
      "outputs": []
    },
    {
      "cell_type": "code",
      "source": [
        "X_train_images"
      ],
      "metadata": {
        "id": "38f3lUyvkeIW"
      },
      "execution_count": null,
      "outputs": []
    },
    {
      "cell_type": "code",
      "source": [
        "Y_train_labels"
      ],
      "metadata": {
        "id": "pUlItPybkg2b"
      },
      "execution_count": null,
      "outputs": []
    },
    {
      "cell_type": "code",
      "source": [
        "X_train_processing = np.array(X_train_images)\n",
        "X_val_processing = np.array(X_val_images)"
      ],
      "metadata": {
        "id": "14WvM3pBkje5"
      },
      "execution_count": null,
      "outputs": []
    },
    {
      "cell_type": "code",
      "source": [
        "print(X_train_processing.shape)\n",
        "print(X_val_processing.shape)"
      ],
      "metadata": {
        "id": "rrqHcTGSknAN"
      },
      "execution_count": null,
      "outputs": []
    },
    {
      "cell_type": "code",
      "source": [
        "print(X_train_processing.dtype)\n",
        "print(X_val_processing.dtype)"
      ],
      "metadata": {
        "id": "Fz8v4CP_ks7t"
      },
      "execution_count": null,
      "outputs": []
    },
    {
      "cell_type": "code",
      "source": [
        "img_test = X_train_processing[1000]\n",
        "img_test_downsampled = PreProcessing(img_test).downsample_data()\n",
        "img_test_upsampled = PreProcessing(img_test).upsample_data()"
      ],
      "metadata": {
        "id": "82ULylGglrWr"
      },
      "execution_count": null,
      "outputs": []
    },
    {
      "cell_type": "code",
      "source": [
        "print(Y_train_labels[1000])"
      ],
      "metadata": {
        "id": "9wrFkP9_lvP9"
      },
      "execution_count": null,
      "outputs": []
    },
    {
      "cell_type": "code",
      "source": [
        "plt.subplot(121)\n",
        "plt.imshow(img_test,cmap='gray')\n",
        "plt.subplot(122)\n",
        "plt.imshow(img_test_downsampled,cmap='gray')"
      ],
      "metadata": {
        "id": "3a8NDtQqlyst"
      },
      "execution_count": null,
      "outputs": []
    },
    {
      "cell_type": "code",
      "source": [
        "plt.subplot(121)\n",
        "plt.imshow(img_test,cmap='gray')\n",
        "plt.subplot(122)\n",
        "plt.imshow(img_test_upsampled,cmap='gray')"
      ],
      "metadata": {
        "id": "w0gBvFotl2Ru"
      },
      "execution_count": null,
      "outputs": []
    },
    {
      "cell_type": "code",
      "source": [
        "img_test_subtracted_mean = PreProcessing(img_test_upsampled).subtract_mean()\n",
        "plt.subplot(121)\n",
        "plt.imshow(img_test_upsampled,cmap='gray')\n",
        "plt.subplot(122)\n",
        "plt.imshow(img_test_subtracted_mean,cmap='gray')"
      ],
      "metadata": {
        "id": "jin3zvGrmB-S"
      },
      "execution_count": null,
      "outputs": []
    },
    {
      "cell_type": "code",
      "source": [
        "import cv2\n",
        "brisk = cv2.BRISK_create(50)\n",
        "img_BRISK_1 = img_test_upsampled.copy()\n",
        "rgb = cv2.cvtColor(img_BRISK_1, cv2.COLOR_GRAY2RGB)\n",
        "img_BRISK_2 = rgb*1000\n",
        "img_BRISK_3 = np.array(img_BRISK_2, dtype=np.uint8)\n",
        "img_contr_copy = img_BRISK_3.copy()\n",
        "\n",
        "plt.subplot(221)\n",
        "plt.imshow(img_BRISK_3, cmap='gray')\n",
        "kpts_1, des_1 = brisk.detectAndCompute(img_BRISK_3, None)\n",
        "\n",
        "image_BRISK_1 = cv2.drawKeypoints(image=img_BRISK_3, outImage=img_BRISK_3, keypoints=kpts_1, flags=cv2.DRAW_MATCHES_FLAGS_DRAW_RICH_KEYPOINTS)\n",
        "plt.subplot(222)\n",
        "plt.imshow(image_BRISK_1, cmap='gray')\n",
        "\n",
        "\n",
        "# with enhanced contrast\n",
        "\n",
        "inp_contr = ImageEnhance.Contrast(Image.fromarray(img_contr_copy))\n",
        "contrast = 1.5\n",
        "img_contr = inp_contr.enhance(contrast)\n",
        "plt.subplot(223)\n",
        "plt.imshow(img_contr, cmap='gray')\n",
        "img_BRISK_4 = np.array(img_contr)\n",
        "kpts_2, des_2 = brisk.detectAndCompute(img_BRISK_4, None)\n",
        "\n",
        "image_BRISK_2 = cv2.drawKeypoints(image=img_BRISK_4, outImage=img_BRISK_4, keypoints=kpts_2, flags=cv2.DRAW_MATCHES_FLAGS_DRAW_RICH_KEYPOINTS)\n",
        "plt.subplot(224)\n",
        "plt.imshow(image_BRISK_2, cmap='gray')"
      ],
      "metadata": {
        "id": "LvoDaTv7mH0_"
      },
      "execution_count": null,
      "outputs": []
    },
    {
      "cell_type": "code",
      "source": [
        "X_train_images_np = np.expand_dims(np.array(X_train_images), axis = 3)\n",
        "y_train_labels_np = np.array(Y_train_labels)\n",
        "X_val_images_np = np.expand_dims(np.array(X_val_images), axis = 3)\n",
        "y_val_labels_np = np.array(Y_val_labels)\n",
        "\n"
      ],
      "metadata": {
        "id": "QC8bQCjgmSlL"
      },
      "execution_count": null,
      "outputs": []
    },
    {
      "cell_type": "code",
      "source": [
        "print(X_train_images_np.shape)\n",
        "print(y_train_labels_np.shape)\n",
        "print(X_val_images_np.shape)\n",
        "print(y_val_labels_np.shape)"
      ],
      "metadata": {
        "id": "jqLxz3NymcRs"
      },
      "execution_count": null,
      "outputs": []
    },
    {
      "cell_type": "code",
      "source": [
        "print(X_train_images_np.dtype)\n",
        "print(y_train_labels_np.dtype)\n",
        "print(X_val_images_np.dtype)\n",
        "print(y_val_labels_np.dtype)"
      ],
      "metadata": {
        "id": "RqSHCVOPmiMn"
      },
      "execution_count": null,
      "outputs": []
    },
    {
      "cell_type": "code",
      "source": [
        "h5f2 = h5py.File('/content/gdrive/My Drive/lungcancer/Dataset_LUNA_16/data/testdataset.h5', 'r')\n",
        "X_test_images = h5f2['X']\n",
        "Y_test_labels = h5f2['Y']"
      ],
      "metadata": {
        "id": "cn70bkovmouB"
      },
      "execution_count": null,
      "outputs": []
    },
    {
      "cell_type": "code",
      "source": [
        "X_test_images_np = np.expand_dims(np.array(X_test_images), axis = 3)\n",
        "y_test_labels_np = np.array(Y_test_labels)"
      ],
      "metadata": {
        "id": "dGl4ny5_msqH"
      },
      "execution_count": null,
      "outputs": []
    },
    {
      "cell_type": "code",
      "source": [
        "print(X_test_images_np.shape)\n",
        "print(y_test_labels_np.shape)"
      ],
      "metadata": {
        "id": "0loqpFuMm7z2"
      },
      "execution_count": null,
      "outputs": []
    },
    {
      "cell_type": "code",
      "source": [
        "print(X_test_images_np.dtype)\n",
        "print(y_test_labels_np.dtype)"
      ],
      "metadata": {
        "id": "wo4RXxVMm_g6"
      },
      "execution_count": null,
      "outputs": []
    },
    {
      "cell_type": "code",
      "source": [
        "from keras.models import Sequential\n",
        "from keras.layers import Conv2D,MaxPooling2D,Dense,Flatten,Dropout,BatchNormalization,AveragePooling2D\n",
        "from keras.optimizers import SGD\n",
        "from keras.preprocessing.image import ImageDataGenerator"
      ],
      "metadata": {
        "id": "mZQagiZrnDvc"
      },
      "execution_count": null,
      "outputs": []
    },
    {
      "cell_type": "code",
      "source": [
        "def define_model():\n",
        "\tmodel = Sequential()\n",
        "\tmodel.add(Conv2D(32, (3, 3), activation='relu', kernel_initializer='he_uniform', padding='same', input_shape=(50, 50, 1)))\n",
        "\tmodel.add(BatchNormalization())\n",
        "\tmodel.add(Conv2D(32, (3, 3), activation='relu', kernel_initializer='he_uniform', padding='same'))\n",
        "\tmodel.add(BatchNormalization())\n",
        "\tmodel.add(MaxPooling2D((2, 2)))\n",
        "\tmodel.add(Dropout(0.1))\n",
        "\tmodel.add(Conv2D(64, (3, 3), activation='relu', kernel_initializer='he_uniform', padding='same'))\n",
        "\tmodel.add(BatchNormalization())\n",
        "\tmodel.add(Conv2D(64, (3, 3), activation='relu', kernel_initializer='he_uniform', padding='same'))\n",
        "\tmodel.add(BatchNormalization())\n",
        "\tmodel.add(MaxPooling2D((2, 2)))\n",
        "\tmodel.add(Dropout(0.2))\n",
        "\tmodel.add(Conv2D(128, (3, 3), activation='relu', kernel_initializer='he_uniform', padding='same'))\n",
        "\tmodel.add(BatchNormalization())\n",
        "\tmodel.add(Conv2D(128, (3, 3), activation='relu', kernel_initializer='he_uniform', padding='same'))\n",
        "\tmodel.add(BatchNormalization())\n",
        "\tmodel.add(MaxPooling2D((2, 2)))\n",
        "\tmodel.add(Dropout(0.3))\n",
        "\tmodel.add(Conv2D(128, (3, 3), activation='relu', kernel_initializer='he_uniform', padding='same'))\n",
        "\tmodel.add(BatchNormalization())\n",
        "\tmodel.add(Conv2D(128, (3, 3), activation='relu', kernel_initializer='he_uniform', padding='same'))\n",
        "\tmodel.add(BatchNormalization())\n",
        "\tmodel.add(MaxPooling2D((2, 2)))\n",
        "\tmodel.add(Dropout(0.4))\n",
        "\tmodel.add(Conv2D(128, (3, 3), activation='relu', kernel_initializer='he_uniform', padding='same'))\n",
        "\tmodel.add(BatchNormalization())\n",
        "\tmodel.add(Conv2D(128, (3, 3), activation='relu', kernel_initializer='he_uniform', padding='same'))\n",
        "\tmodel.add(BatchNormalization())\n",
        "\tmodel.add(MaxPooling2D((2, 2)))\n",
        "\tmodel.add(Dropout(0.5))\n",
        "\tmodel.add(Flatten())\n",
        "\tmodel.add(Dense(128, activation='relu', kernel_initializer='he_uniform'))\n",
        "\tmodel.add(BatchNormalization())\n",
        "\tmodel.add(Dropout(0.5))\n",
        "\tmodel.add(Dense(128, activation='relu', kernel_initializer='he_uniform'));return model\n",
        "\n",
        "mobile = define_model()"
      ],
      "metadata": {
        "id": "C_x_toXdnO2L"
      },
      "execution_count": null,
      "outputs": []
    },
    {
      "cell_type": "code",
      "source": [
        "mobile.summary()"
      ],
      "metadata": {
        "id": "vPiWwJbinTjf"
      },
      "execution_count": null,
      "outputs": []
    },
    {
      "cell_type": "code",
      "source": [
        "op_layer = mobile.output\n",
        "final_layer = Dense(128,activation='relu',kernel_initializer='he_uniform')(op_layer)\n",
        "final_layer = Dense(128,activation='relu',kernel_initializer='he_uniform')(final_layer)\n",
        "final_layer = Dense(2,activation= 'softmax')(final_layer)\n",
        "from keras.models  import Model\n",
        "# Define model input and output\n",
        "model = Model(inputs = mobile.input , outputs = final_layer)\n",
        "opt = SGD(lr=0.001, momentum=0.9)\n",
        "import keras\n",
        "optimizer_sgd = keras.optimizers.Adam(learning_rate=0.001)\n",
        "model.compile(optimizer=optimizer_sgd, loss='categorical_crossentropy', metrics=['accuracy'])"
      ],
      "metadata": {
        "id": "IpdNkRK1nW-B"
      },
      "execution_count": null,
      "outputs": []
    },
    {
      "cell_type": "code",
      "source": [
        "model.summary()"
      ],
      "metadata": {
        "id": "04eMSBNqnbht"
      },
      "execution_count": null,
      "outputs": []
    },
    {
      "cell_type": "code",
      "source": [
        "import matplotlib.pyplot as plt\n",
        "def summarize_diagnostics(hist):\n",
        "\tplt.plot(hist.history[\"accuracy\"])\n",
        "\tplt.plot(hist.history['val_accuracy'])\n",
        "\tplt.plot(hist.history['loss'])\n",
        "\tplt.plot(hist.history['val_loss'])\n",
        "\tplt.title(\"model accuracy\")\n",
        "\tplt.ylabel(\"Accuracy\")\n",
        "\tplt.xlabel(\"Epoch\")\n",
        "\tplt.legend([\"Accuracy\",\"Validation Accuracy\",\"loss\",\"Validation Loss\"])"
      ],
      "metadata": {
        "id": "CJsK9lbDnlLf"
      },
      "execution_count": null,
      "outputs": []
    },
    {
      "cell_type": "code",
      "source": [
        "callbacks = [\n",
        "    keras.callbacks.ModelCheckpoint('classification_deep_conv_model.h5', save_best_only=True),\n",
        "    keras.callbacks.ReduceLROnPlateau()]"
      ],
      "metadata": {
        "id": "swgQMVmnno_O"
      },
      "execution_count": null,
      "outputs": []
    },
    {
      "cell_type": "code",
      "source": [
        "def run_test_harness():\n",
        "\t# create data generator\n",
        "\tdatagen = ImageDataGenerator(width_shift_range=0.1, height_shift_range=0.1, horizontal_flip=True,zoom_range=0.1)\n",
        "\t# prepare iterator\n",
        "\tit_train = datagen.flow(X_train_images_np, y_train_labels_np, batch_size=64)\n",
        "\t# fit model\n",
        "\tsteps = int(X_train_images_np.shape[0] / 64)\n",
        "\thist = model.fit_generator(it_train, steps_per_epoch=steps, epochs=500, validation_data=(X_val_images_np, y_val_labels_np), verbose=1, callbacks = callbacks)\n",
        "\t# evaluate model\n",
        "\t_, acc = model.evaluate(X_val_images_np, y_val_labels_np, verbose=1)\n",
        "\tprint('> %.3f' % (acc * 100.0))\n",
        "\t# learning curves\n",
        "\tsummarize_diagnostics(hist)\n",
        "\n",
        "# entry point, run the test harness\n",
        "run_test_harness()"
      ],
      "metadata": {
        "id": "9C_Qb180ns32"
      },
      "execution_count": null,
      "outputs": []
    },
    {
      "cell_type": "code",
      "source": [
        "model_new_1 = keras.models.load_model(\"classification_deep_conv_model.h5\")"
      ],
      "metadata": {
        "id": "Cq4h63_anw6P"
      },
      "execution_count": null,
      "outputs": []
    },
    {
      "cell_type": "code",
      "source": [
        "model_new_1.summary()"
      ],
      "metadata": {
        "id": "8eyIc9N2n_UK"
      },
      "execution_count": null,
      "outputs": []
    },
    {
      "cell_type": "markdown",
      "source": [],
      "metadata": {
        "id": "agvbxXUMv95f"
      }
    },
    {
      "cell_type": "code",
      "source": [
        "from sklearn.metrics import confusion_matrix,classification_report\n",
        "y_pred = model_new_1.predict(X_test_images_np)\n",
        "y_p = np.argmax(y_pred,axis=1)\n",
        "y_true = np.argmax(y_test_labels_np,axis=1)\n",
        "print('confusion matrix')\n",
        "print(confusion_matrix(y_true,y_p))"
      ],
      "metadata": {
        "id": "cErAhy3koChs"
      },
      "execution_count": null,
      "outputs": []
    },
    {
      "cell_type": "code",
      "source": [
        "print('Classification report')\n",
        "print(classification_report(y_true,y_p))"
      ],
      "metadata": {
        "id": "2-GyiCNKoI_a"
      },
      "execution_count": null,
      "outputs": []
    },
    {
      "cell_type": "code",
      "source": [
        "from sklearn.preprocessing import StandardScaler\n",
        "sc = StandardScaler()\n",
        "op_layer = model_new_1.get_layer('dense_3').output\n",
        "model_new = Model(inputs = model_new_1.input,outputs = op_layer)\n",
        "train_new = sc.fit_transform(model_new.predict(X_train_images_np))\n",
        "val_new = sc.fit_transform(model_new.predict(X_val_images_np))\n",
        "test_new = sc.fit_transform(model_new.predict(X_test_images_np))"
      ],
      "metadata": {
        "id": "QCjr5sivoMyw"
      },
      "execution_count": null,
      "outputs": []
    },
    {
      "cell_type": "code",
      "source": [
        "from sklearn.svm import SVC\n",
        "svm = SVC(kernel='rbf')\n",
        "svm.fit(train_new,np.argmax(y_train_labels_np,axis=1))\n",
        "print('Training score of svm',svm.score(train_new,np.argmax(y_train_labels_np,axis=1)))\n",
        "print('validation score of svm :',svm.score(val_new,np.argmax(y_val_labels_np,axis=1)))\n",
        "print('testing score of svm :',svm.score(test_new,np.argmax(y_test_labels_np,axis=1)))"
      ],
      "metadata": {
        "id": "r4hmZRCuoQF2"
      },
      "execution_count": null,
      "outputs": []
    },
    {
      "cell_type": "code",
      "source": [
        "from xgboost import XGBClassifier\n",
        "xg = XGBClassifier()\n",
        "xg.fit(train_new,np.argmax(y_train_labels_np,axis=1))\n",
        "print('Training score of xgb',xg.score(train_new,np.argmax(y_train_labels_np,axis=1)))\n",
        "print('validation score of xgb :',xg.score(val_new,np.argmax(y_val_labels_np,axis=1)))\n",
        "print('testing score of xgb :',xg.score(test_new,np.argmax(y_test_labels_np,axis=1)))"
      ],
      "metadata": {
        "id": "WOwop_EQoW-m"
      },
      "execution_count": null,
      "outputs": []
    },
    {
      "cell_type": "code",
      "source": [
        "from sklearn.ensemble import RandomForestClassifier\n",
        "rf=RandomForestClassifier()\n",
        "rf.fit(train_new,np.argmax(y_train_labels_np,axis=1))\n",
        "print('Training score of random_forest',rf.score(train_new,np.argmax(y_train_labels_np,axis=1)))\n",
        "print('validation score of random_forest :',rf.score(val_new,np.argmax(y_val_labels_np,axis=1)))\n",
        "print('testing score of random_forest :',rf.score(test_new,np.argmax(y_test_labels_np,axis=1)))"
      ],
      "metadata": {
        "id": "pVrA6PMaoYPh"
      },
      "execution_count": null,
      "outputs": []
    }
  ]
}